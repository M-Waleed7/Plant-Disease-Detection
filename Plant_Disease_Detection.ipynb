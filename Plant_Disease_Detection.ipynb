{
  "nbformat": 4,
  "nbformat_minor": 0,
  "metadata": {
    "colab": {
      "provenance": [],
      "gpuType": "T4"
    },
    "kernelspec": {
      "name": "python3",
      "display_name": "Python 3"
    },
    "language_info": {
      "name": "python"
    },
    "accelerator": "GPU"
  },
  "cells": [
    {
      "cell_type": "code",
      "execution_count": 127,
      "metadata": {
        "colab": {
          "base_uri": "https://localhost:8080/"
        },
        "id": "oywaBbV0em44",
        "outputId": "3e4a97d4-b122-44f4-9246-6bfe4fa9a410"
      },
      "outputs": [
        {
          "output_type": "stream",
          "name": "stdout",
          "text": [
            "Dataset URL: https://www.kaggle.com/datasets/rashikrahmanpritom/plant-disease-recognition-dataset\n",
            "License(s): CC0-1.0\n",
            "plant-disease-recognition-dataset.zip: Skipping, found more recently modified local copy (use --force to force download)\n"
          ]
        }
      ],
      "source": [
        "!kaggle datasets download -d rashikrahmanpritom/plant-disease-recognition-dataset"
      ]
    },
    {
      "cell_type": "code",
      "source": [
        "import zipfile\n",
        "zip_ref = zipfile.ZipFile('/content/plant-disease-recognition-dataset.zip', 'r')\n",
        "zip_ref.extractall('/content')\n",
        "zip_ref.close()"
      ],
      "metadata": {
        "id": "OllJwsXtfDrM"
      },
      "execution_count": 128,
      "outputs": []
    },
    {
      "cell_type": "code",
      "source": [
        "import os\n",
        "import numpy as np\n",
        "import pandas as pd\n",
        "import matplotlib.pyplot as plt\n",
        "from PIL import Image\n",
        "import cv2\n",
        "import tensorflow as tf\n",
        "from tensorflow.keras import layers\n",
        "from tensorflow.keras.models import Sequential\n",
        "from tensorflow.keras.layers import Dense, Dropout, Activation, Flatten, Conv2D, MaxPooling2D\n",
        "from tensorflow.keras.utils import to_categorical\n"
      ],
      "metadata": {
        "id": "mSbQW98ugI4G"
      },
      "execution_count": 199,
      "outputs": []
    },
    {
      "cell_type": "code",
      "source": [
        "np.random.seed(0)\n",
        "tf.random.set_seed(0)"
      ],
      "metadata": {
        "id": "Gd2Ud6ykDBkj"
      },
      "execution_count": 200,
      "outputs": []
    },
    {
      "cell_type": "code",
      "source": [
        "X_train_healthy_file=os.listdir('/content/Train/Train/Healthy')\n",
        "X_train_powdery_file=os.listdir('/content/Train/Train/Powdery')\n",
        "X_train_rust_file=os.listdir('/content/Train/Train/Rust')"
      ],
      "metadata": {
        "id": "EWUejDjtfsHF"
      },
      "execution_count": 201,
      "outputs": []
    },
    {
      "cell_type": "code",
      "source": [
        "healthy_length=len(X_train_healthy_file)\n",
        "powdery_length=len(X_train_powdery_file)\n",
        "rust_length=len(X_train_rust_file)"
      ],
      "metadata": {
        "id": "4Z2Q2RlqgWID"
      },
      "execution_count": 202,
      "outputs": []
    },
    {
      "cell_type": "code",
      "source": [
        "y_healthy=[0]*healthy_length\n",
        "y_powdery=[1]*powdery_length\n",
        "y_rust=[2]*rust_length"
      ],
      "metadata": {
        "id": "G1DyeoYmgxQ8"
      },
      "execution_count": 203,
      "outputs": []
    },
    {
      "cell_type": "code",
      "source": [
        "y_train=y_healthy+y_powdery+y_rust"
      ],
      "metadata": {
        "id": "CCUvTz-4g8nA"
      },
      "execution_count": 204,
      "outputs": []
    },
    {
      "cell_type": "code",
      "source": [
        "X_test_healthy_file=os.listdir('/content/Test/Test/Healthy')\n",
        "X_test_powdery_file=os.listdir('/content/Test/Test/Powdery')\n",
        "X_test_rust_file=os.listdir('/content/Test/Test/Rust')"
      ],
      "metadata": {
        "id": "j2AyMeh-hAcL"
      },
      "execution_count": 205,
      "outputs": []
    },
    {
      "cell_type": "code",
      "source": [
        "healthy_length=len(X_test_healthy_file)\n",
        "powdery_length=len(X_test_powdery_file)\n",
        "rust_length=len(X_test_rust_file)"
      ],
      "metadata": {
        "id": "JQ8EAF96m2kI"
      },
      "execution_count": 206,
      "outputs": []
    },
    {
      "cell_type": "code",
      "source": [
        "y_test_healthy=[0]*healthy_length\n",
        "y_test_powdery=[1]*powdery_length\n",
        "y_test_rust=[2]*rust_length"
      ],
      "metadata": {
        "id": "jjDaJyPkm9EN"
      },
      "execution_count": 207,
      "outputs": []
    },
    {
      "cell_type": "code",
      "source": [
        "y_test=y_test_healthy+y_test_powdery+y_test_rust"
      ],
      "metadata": {
        "id": "ijBq_uJrnApv"
      },
      "execution_count": 208,
      "outputs": []
    },
    {
      "cell_type": "code",
      "source": [
        "train_data=[]\n",
        "for images in X_train_healthy_file:\n",
        "  img=Image.open('/content/Train/Train/Healthy/'+images)\n",
        "  img=img.resize((28,28))\n",
        "  img=img.convert('RGB')\n",
        "  img=np.array(img)\n",
        "  img=img/255.0\n",
        "  train_data.append(img)\n"
      ],
      "metadata": {
        "id": "PfRB3_OPnDgs"
      },
      "execution_count": 209,
      "outputs": []
    },
    {
      "cell_type": "code",
      "source": [
        "for images in X_train_powdery_file:\n",
        "  img=Image.open('/content/Train/Train/Powdery/'+images)\n",
        "  img=img.resize((28,28))\n",
        "  img=img.convert('RGB')\n",
        "  img=np.array(img)\n",
        "  img=img/255.0\n",
        "  train_data.append(img)"
      ],
      "metadata": {
        "id": "gkB86sUJoDzc"
      },
      "execution_count": 210,
      "outputs": []
    },
    {
      "cell_type": "code",
      "source": [
        "for images in X_train_rust_file:\n",
        "  img=Image.open('/content/Train/Train/Rust/'+images)\n",
        "  img=img.resize((28,28))\n",
        "  img=img.convert('RGB')\n",
        "  img=np.array(img)\n",
        "  img=img/255.0\n",
        "  train_data.append(img)"
      ],
      "metadata": {
        "id": "RC2Jw7J4occg"
      },
      "execution_count": 211,
      "outputs": []
    },
    {
      "cell_type": "code",
      "source": [
        "X_train=np.array(train_data)\n",
        "y_train=np.array(y_train)"
      ],
      "metadata": {
        "id": "V0OY1R-Boq4Q"
      },
      "execution_count": 212,
      "outputs": []
    },
    {
      "cell_type": "code",
      "source": [
        "test_data=[]\n",
        "for images in X_test_healthy_file:\n",
        "  img=Image.open('/content/Test/Test/Healthy/'+images)\n",
        "  img=img.resize((28,28))\n",
        "  img=img.convert('RGB')\n",
        "  img=np.array(img)\n",
        "  img=img/255.0\n",
        "  test_data.append(img)\n"
      ],
      "metadata": {
        "id": "NaaDAjZQo6Xw"
      },
      "execution_count": 213,
      "outputs": []
    },
    {
      "cell_type": "code",
      "source": [
        "for images in X_test_powdery_file:\n",
        "  img=Image.open('/content/Test/Test/Powdery/'+images)\n",
        "  img=img.resize((28,28))\n",
        "  img=img.convert('RGB')\n",
        "  img=np.array(img)\n",
        "  img=img/255.0\n",
        "  test_data.append(img)"
      ],
      "metadata": {
        "id": "O8QT3-YZo8k3"
      },
      "execution_count": 214,
      "outputs": []
    },
    {
      "cell_type": "code",
      "source": [
        "for images in X_test_rust_file:\n",
        "  img=Image.open('/content/Test/Test/Rust/'+images)\n",
        "  img=img.resize((28,28))\n",
        "  img=img.convert('RGB')\n",
        "  img=np.array(img)\n",
        "  img=img/255.0\n",
        "  test_data.append(img)"
      ],
      "metadata": {
        "id": "iO6WiGGhpxTn"
      },
      "execution_count": 215,
      "outputs": []
    },
    {
      "cell_type": "code",
      "source": [
        "X_test=np.array(test_data)\n",
        "y_test=np.array(y_test)"
      ],
      "metadata": {
        "id": "l6KYEYtcp6g5"
      },
      "execution_count": 216,
      "outputs": []
    },
    {
      "cell_type": "code",
      "source": [
        "y_train = to_categorical(y_train, num_classes=3)\n",
        "y_test = to_categorical(y_test, num_classes=3)"
      ],
      "metadata": {
        "id": "mwDXTqGM6_JE"
      },
      "execution_count": 217,
      "outputs": []
    },
    {
      "cell_type": "code",
      "source": [
        "len(X_test)"
      ],
      "metadata": {
        "id": "16p64SzPqFBf",
        "outputId": "d69bb6b4-01a7-41bc-be32-b514504b7675",
        "colab": {
          "base_uri": "https://localhost:8080/"
        }
      },
      "execution_count": 218,
      "outputs": [
        {
          "output_type": "execute_result",
          "data": {
            "text/plain": [
              "150"
            ]
          },
          "metadata": {},
          "execution_count": 218
        }
      ]
    },
    {
      "cell_type": "code",
      "source": [
        "len(y_test)"
      ],
      "metadata": {
        "id": "fvisRLgWqGtT",
        "outputId": "40144bb9-86e2-4645-b871-7315309b5b54",
        "colab": {
          "base_uri": "https://localhost:8080/"
        }
      },
      "execution_count": 219,
      "outputs": [
        {
          "output_type": "execute_result",
          "data": {
            "text/plain": [
              "150"
            ]
          },
          "metadata": {},
          "execution_count": 219
        }
      ]
    },
    {
      "cell_type": "code",
      "source": [
        "len(X_train)"
      ],
      "metadata": {
        "id": "zLEob7NhqLMl",
        "outputId": "65ac242f-902e-461c-fd07-e7911ab6433f",
        "colab": {
          "base_uri": "https://localhost:8080/"
        }
      },
      "execution_count": 220,
      "outputs": [
        {
          "output_type": "execute_result",
          "data": {
            "text/plain": [
              "1322"
            ]
          },
          "metadata": {},
          "execution_count": 220
        }
      ]
    },
    {
      "cell_type": "code",
      "source": [
        "len(y_train)"
      ],
      "metadata": {
        "id": "84rzKBDiqNGM",
        "outputId": "b04df1f8-23b1-46bf-93e3-ead0e52bd36a",
        "colab": {
          "base_uri": "https://localhost:8080/"
        }
      },
      "execution_count": 221,
      "outputs": [
        {
          "output_type": "execute_result",
          "data": {
            "text/plain": [
              "1322"
            ]
          },
          "metadata": {},
          "execution_count": 221
        }
      ]
    },
    {
      "cell_type": "code",
      "source": [
        "X_train.shape"
      ],
      "metadata": {
        "id": "UxkMOqAKq8fy",
        "outputId": "f52ac4a8-7daf-4a6d-f299-93d7577b9bf6",
        "colab": {
          "base_uri": "https://localhost:8080/"
        }
      },
      "execution_count": 222,
      "outputs": [
        {
          "output_type": "execute_result",
          "data": {
            "text/plain": [
              "(1322, 28, 28, 3)"
            ]
          },
          "metadata": {},
          "execution_count": 222
        }
      ]
    },
    {
      "cell_type": "code",
      "source": [
        "model = Sequential()"
      ],
      "metadata": {
        "id": "FnHvQgowqPPe"
      },
      "execution_count": 256,
      "outputs": []
    },
    {
      "cell_type": "code",
      "source": [
        "model.add(Conv2D(32,kernel_size=(2,2),activation='relu',input_shape=(28,28,3)))\n",
        "model.add(MaxPooling2D((2,2),padding='same'))\n",
        "model.add(Conv2D(64,(2,2),activation='relu'))\n",
        "model.add(MaxPooling2D((2,2),padding='same'))\n",
        "model.add(Conv2D(128,(2,2),activation='relu'))\n",
        "model.add(MaxPooling2D((2,2),padding='same'))\n",
        "model.add(Flatten())\n",
        "model.add(Dense(128,activation='relu'))\n",
        "model.add(Dense(64,activation='relu'))\n",
        "model.add(Dense(32,activation='relu'))\n",
        "model.add(Dense(3,activation='softmax'))"
      ],
      "metadata": {
        "id": "YkqdPc44qjKA"
      },
      "execution_count": 257,
      "outputs": []
    },
    {
      "cell_type": "code",
      "source": [
        "model.compile(optimizer='adam',loss='categorical_crossentropy',metrics=['accuracy'])"
      ],
      "metadata": {
        "id": "lvpsVUU02R_Y"
      },
      "execution_count": 258,
      "outputs": []
    },
    {
      "cell_type": "code",
      "source": [
        "history=model.fit(X_train,y_train,epochs=15,batch_size=32,validation_data=(X_test,y_test))"
      ],
      "metadata": {
        "id": "b3A3KeIM5CBn",
        "outputId": "1ee6ced1-a695-478a-cc6e-54dd0a9adfbb",
        "colab": {
          "base_uri": "https://localhost:8080/"
        }
      },
      "execution_count": 259,
      "outputs": [
        {
          "output_type": "stream",
          "name": "stdout",
          "text": [
            "Epoch 1/15\n",
            "42/42 [==============================] - 2s 10ms/step - loss: 1.0840 - accuracy: 0.3918 - val_loss: 1.0241 - val_accuracy: 0.5133\n",
            "Epoch 2/15\n",
            "42/42 [==============================] - 0s 6ms/step - loss: 0.8196 - accuracy: 0.6089 - val_loss: 0.7607 - val_accuracy: 0.6267\n",
            "Epoch 3/15\n",
            "42/42 [==============================] - 0s 5ms/step - loss: 0.6563 - accuracy: 0.6838 - val_loss: 0.7713 - val_accuracy: 0.6067\n",
            "Epoch 4/15\n",
            "42/42 [==============================] - 0s 5ms/step - loss: 0.6067 - accuracy: 0.7224 - val_loss: 0.7523 - val_accuracy: 0.6533\n",
            "Epoch 5/15\n",
            "42/42 [==============================] - 0s 6ms/step - loss: 0.4766 - accuracy: 0.8041 - val_loss: 0.6122 - val_accuracy: 0.7333\n",
            "Epoch 6/15\n",
            "42/42 [==============================] - 0s 6ms/step - loss: 0.4288 - accuracy: 0.8253 - val_loss: 0.6695 - val_accuracy: 0.7467\n",
            "Epoch 7/15\n",
            "42/42 [==============================] - 0s 6ms/step - loss: 0.3435 - accuracy: 0.8661 - val_loss: 0.6109 - val_accuracy: 0.7800\n",
            "Epoch 8/15\n",
            "42/42 [==============================] - 0s 5ms/step - loss: 0.2962 - accuracy: 0.9017 - val_loss: 0.4942 - val_accuracy: 0.7933\n",
            "Epoch 9/15\n",
            "42/42 [==============================] - 0s 6ms/step - loss: 0.2505 - accuracy: 0.9077 - val_loss: 0.5022 - val_accuracy: 0.7800\n",
            "Epoch 10/15\n",
            "42/42 [==============================] - 0s 6ms/step - loss: 0.2621 - accuracy: 0.9092 - val_loss: 0.7536 - val_accuracy: 0.7600\n",
            "Epoch 11/15\n",
            "42/42 [==============================] - 0s 6ms/step - loss: 0.2402 - accuracy: 0.9100 - val_loss: 0.4104 - val_accuracy: 0.8467\n",
            "Epoch 12/15\n",
            "42/42 [==============================] - 0s 5ms/step - loss: 0.1411 - accuracy: 0.9516 - val_loss: 0.4700 - val_accuracy: 0.8333\n",
            "Epoch 13/15\n",
            "42/42 [==============================] - 0s 5ms/step - loss: 0.1245 - accuracy: 0.9629 - val_loss: 0.3701 - val_accuracy: 0.8667\n",
            "Epoch 14/15\n",
            "42/42 [==============================] - 0s 6ms/step - loss: 0.1301 - accuracy: 0.9531 - val_loss: 0.3720 - val_accuracy: 0.8467\n",
            "Epoch 15/15\n",
            "42/42 [==============================] - 0s 6ms/step - loss: 0.1039 - accuracy: 0.9675 - val_loss: 0.5656 - val_accuracy: 0.8133\n"
          ]
        }
      ]
    },
    {
      "cell_type": "code",
      "source": [
        "plt.plot(history.history['accuracy'])\n",
        "plt.plot(history.history['val_accuracy'])\n",
        "plt.title('model accuracy')\n",
        "plt.ylabel('accuracy')\n",
        "plt.xlabel('epoch')\n",
        "plt.legend(['train','test'],loc='upper left')\n",
        "plt.show()"
      ],
      "metadata": {
        "id": "1Fq39V7d5xTb",
        "outputId": "4feac35c-2675-4a90-c393-37f310f76974",
        "colab": {
          "base_uri": "https://localhost:8080/",
          "height": 472
        }
      },
      "execution_count": 260,
      "outputs": [
        {
          "output_type": "display_data",
          "data": {
            "text/plain": [
              "<Figure size 640x480 with 1 Axes>"
            ],
            "image/png": "[encoded data removed]"
          },
          "metadata": {}
        }
      ]
    },
    {
      "cell_type": "code",
      "source": [
        "def prediction(image):\n",
        "  image=Image.open(image)\n",
        "  image=image.resize((28,28))\n",
        "  image=image.convert('RGB')\n",
        "  image=np.array(image)\n",
        "  image=image/255.0\n",
        "  image=np.expand_dims(image,axis=0)\n",
        "  prediction=model.predict(image)\n",
        "  predict=prediction.argmax()\n",
        "  if predict==0:\n",
        "    print('Healthy')\n",
        "  elif predict==1:\n",
        "    print('Powdery')\n",
        "  else:\n",
        "    print('Rust')"
      ],
      "metadata": {
        "id": "IAdSHzKs-IIc"
      },
      "execution_count": 261,
      "outputs": []
    },
    {
      "cell_type": "code",
      "source": [
        "prediction('/content/Validation/Validation/Rust/963ffc6b98d60940.jpg')"
      ],
      "metadata": {
        "id": "sycH0LJ4_kpW",
        "outputId": "b014b2e5-0640-4e5c-d181-4014945882e4",
        "colab": {
          "base_uri": "https://localhost:8080/"
        }
      },
      "execution_count": 273,
      "outputs": [
        {
          "output_type": "stream",
          "name": "stdout",
          "text": [
            "1/1 [==============================] - 0s 18ms/step\n",
            "Rust\n"
          ]
        }
      ]
    },
    {
      "cell_type": "code",
      "source": [],
      "metadata": {
        "id": "XdVJ86Bq_r36"
      },
      "execution_count": 262,
      "outputs": []
    }
  ]
}